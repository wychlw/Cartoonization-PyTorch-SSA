{
 "cells": [
  {
   "cell_type": "code",
   "execution_count": 1,
   "metadata": {},
   "outputs": [],
   "source": [
    "from mindspore import Tensor,ops\n",
    "import mindspore"
   ]
  },
  {
   "cell_type": "code",
   "execution_count": 2,
   "metadata": {},
   "outputs": [
    {
     "name": "stdout",
     "output_type": "stream",
     "text": [
      "(1, 3, 512, 512)\n"
     ]
    }
   ],
   "source": [
    "img:Tensor=ops.ones((1,3,512,512),mindspore.dtype.float64)\n",
    "print(img.shape)"
   ]
  },
  {
   "cell_type": "code",
   "execution_count": 4,
   "metadata": {},
   "outputs": [
    {
     "name": "stdout",
     "output_type": "stream",
     "text": [
      "(1, 3, 511, 512)\n"
     ]
    }
   ],
   "source": [
    "print(img[:,:,1:,:].shape)"
   ]
  },
  {
   "cell_type": "code",
   "execution_count": 38,
   "metadata": {},
   "outputs": [
    {
     "ename": "NameError",
     "evalue": "name 'VGG' is not defined",
     "output_type": "error",
     "traceback": [
      "\u001b[0;31m---------------------------------------------------------------------------\u001b[0m",
      "\u001b[0;31mNameError\u001b[0m                                 Traceback (most recent call last)",
      "Cell \u001b[0;32mIn[38], line 1\u001b[0m\n\u001b[0;32m----> 1\u001b[0m out\u001b[39m=\u001b[39mVGG(img)\n\u001b[1;32m      2\u001b[0m \u001b[39mprint\u001b[39m(img\u001b[39m.\u001b[39mshape)\n",
      "\u001b[0;31mNameError\u001b[0m: name 'VGG' is not defined"
     ]
    }
   ],
   "source": [
    "out=VGG(img)\n",
    "print(img.shape)"
   ]
  },
  {
   "cell_type": "code",
   "execution_count": 6,
   "metadata": {},
   "outputs": [],
   "source": [
    "m=Tensor([[[0,1,2,3,4],[5,6,7,8,9]],[[0,1,2,3,4],[5,6,7,8,9]]])"
   ]
  },
  {
   "cell_type": "code",
   "execution_count": 7,
   "metadata": {},
   "outputs": [
    {
     "name": "stdout",
     "output_type": "stream",
     "text": [
      "[[0 1 2 3 4]\n",
      " [5 6 7 8 9]\n",
      " [0 1 2 3 4]\n",
      " [5 6 7 8 9]]\n"
     ]
    }
   ],
   "source": [
    "print(m.reshape(-1,m.shape[-1]))"
   ]
  },
  {
   "cell_type": "code",
   "execution_count": 15,
   "metadata": {},
   "outputs": [],
   "source": [
    "from mindspore import Tensor, Parameter, ops\n",
    "from mindspore.ops.operations.image_ops import ResizeBilinearV2\n",
    "import numpy as np"
   ]
  },
  {
   "cell_type": "code",
   "execution_count": 29,
   "metadata": {},
   "outputs": [
    {
     "name": "stdout",
     "output_type": "stream",
     "text": [
      "[[ 1.         2.         3.         4.         5.       ]\n",
      " [ 2.6666667  3.6666667  4.666667   5.666667   6.666667 ]\n",
      " [ 4.3333335  5.3333335  6.3333335  7.3333335  8.333334 ]\n",
      " [ 6.         7.         8.         9.        10.       ]\n",
      " [ 6.         7.         8.         9.        10.       ]\n",
      " [ 6.         7.         8.         9.        10.       ]]\n"
     ]
    }
   ],
   "source": [
    "x = Tensor([[[[1, 2, 3, 4, 5], [6, 7, 8, 9, 10]]]], mindspore.float32)\n",
    "rv= ResizeBilinearV2()\n",
    "output = rv(x, (6, 5))\n",
    "out=output[0][0]\n",
    "print(out)"
   ]
  }
 ],
 "metadata": {
  "kernelspec": {
   "display_name": "mindspore",
   "language": "python",
   "name": "python3"
  },
  "language_info": {
   "codemirror_mode": {
    "name": "ipython",
    "version": 3
   },
   "file_extension": ".py",
   "mimetype": "text/x-python",
   "name": "python",
   "nbconvert_exporter": "python",
   "pygments_lexer": "ipython3",
   "version": "3.9.16"
  },
  "orig_nbformat": 4,
  "vscode": {
   "interpreter": {
    "hash": "0995ba922a8bb981246bc8fb2b411aabad700053b9758eed18abe5c9a57a90ea"
   }
  }
 },
 "nbformat": 4,
 "nbformat_minor": 2
}
